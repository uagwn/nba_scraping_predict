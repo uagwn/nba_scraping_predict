{
 "cells": [
  {
   "cell_type": "code",
   "execution_count": 14,
   "id": "dcf06ce9-36c9-47da-a1c7-dd46dcdbdb48",
   "metadata": {
    "tags": []
   },
   "outputs": [],
   "source": [
    "from urllib.request import urlopen\n",
    "import time\n",
    "from bs4 import BeautifulSoup\n",
    "import pandas as pd\n",
    "import matplotlib.pyplot as plt\n",
    "import seaborn as sns\n",
    "from numpy import array\n",
    "import numpy as np"
   ]
  },
  {
   "cell_type": "code",
   "execution_count": null,
   "id": "12999200-93bf-4e18-b3bd-7da88f3c8694",
   "metadata": {
    "tags": []
   },
   "outputs": [],
   "source": [
    "NBA_alphabet =['a','b','c', 'd','e','h','f','i','g','j','k','l','m','n','o','p','q','r','s','t','v','w','y','z']"
   ]
  },
  {
   "cell_type": "code",
   "execution_count": null,
   "id": "cc6a9004-d217-4297-b50b-8927c0f94d6b",
   "metadata": {
    "tags": []
   },
   "outputs": [],
   "source": [
    "for letter in range(len(NBA_alphabet)):\n",
    "    print(str(NBA_alphabet[letter]))"
   ]
  },
  {
   "cell_type": "code",
   "execution_count": null,
   "id": "f06e44c0-2530-4501-8f87-ec7d822eb6cd",
   "metadata": {
    "tags": []
   },
   "outputs": [],
   "source": [
    "players = pd.DataFrame()\n",
    "for letter in range(len(NBA_alphabet)):\n",
    "    url = \"https://www.hispanosnba.com/jugadores/nba-activos/\"+(str(NBA_alphabet[letter]))\n",
    "    df_list = pd.read_html(url)\n",
    "    adding_players = df_list[0]\n",
    "    players=players.append(adding_players)"
   ]
  },
  {
   "cell_type": "code",
   "execution_count": null,
   "id": "03ba149a-0592-4908-884e-33197a4f5766",
   "metadata": {
    "tags": []
   },
   "outputs": [],
   "source": [
    "players.head(50)"
   ]
  },
  {
   "cell_type": "code",
   "execution_count": null,
   "id": "01cf6924-e737-4f60-9cc5-16301cf20d8e",
   "metadata": {
    "tags": []
   },
   "outputs": [],
   "source": [
    "df1 = players.droplevel(level=0, axis=1)"
   ]
  },
  {
   "cell_type": "code",
   "execution_count": null,
   "id": "58f3cd28-d839-46b1-84a0-dfadae5d31f9",
   "metadata": {
    "tags": []
   },
   "outputs": [],
   "source": [
    "df1"
   ]
  },
  {
   "cell_type": "code",
   "execution_count": null,
   "id": "fd5dbe7e-4915-4732-b61c-1c338cf2bfaa",
   "metadata": {
    "tags": []
   },
   "outputs": [],
   "source": [
    "clean_table = df1[df1.Hasta !='----']"
   ]
  },
  {
   "cell_type": "code",
   "execution_count": null,
   "id": "d432690b-1414-4c23-b387-5cbae9d85744",
   "metadata": {
    "tags": []
   },
   "outputs": [],
   "source": [
    "clean_table"
   ]
  },
  {
   "cell_type": "code",
   "execution_count": null,
   "id": "55d62777-8b39-4a5f-8374-ef0afa53f73d",
   "metadata": {
    "tags": []
   },
   "outputs": [],
   "source": [
    "clean_table.to_csv(\"clean_table.csv\")"
   ]
  },
  {
   "cell_type": "code",
   "execution_count": null,
   "id": "48bcd99a-99b7-4880-b77c-f096eb44ee87",
   "metadata": {
    "tags": []
   },
   "outputs": [],
   "source": [
    "active_players = clean_table[\"Nombre\"].tolist()"
   ]
  },
  {
   "cell_type": "code",
   "execution_count": null,
   "id": "700f5988-fe4a-4c42-9d91-982565de27de",
   "metadata": {
    "tags": []
   },
   "outputs": [],
   "source": [
    "active_players"
   ]
  },
  {
   "cell_type": "code",
   "execution_count": null,
   "id": "8aac0ca8-b88a-4283-a978-c9799092c8b0",
   "metadata": {
    "tags": []
   },
   "outputs": [],
   "source": [
    "player_code = []\n",
    "for player in active_players:\n",
    "    a = str(player)\n",
    "    f = \"01\"\n",
    "    b =a.find(\" \")\n",
    "    c= len(a)\n",
    "    if c-b > 5:\n",
    "        d=a[b+1:b+6]\n",
    "    else:\n",
    "        d=a[b+1:c]\n",
    "    e=a[0:2]\n",
    "    print(d[0].strip()+ '/' + d.strip() + e.strip() + f.strip().lower())\n",
    "    code = d[0].strip()+'/'+ d.strip() + e.strip() + f.strip().lower()\n",
    "    code.lower()\n",
    "    player_code.append(code)\n",
    " "
   ]
  },
  {
   "cell_type": "code",
   "execution_count": null,
   "id": "687437b4-0efa-4f0c-9eaf-2e334252dd2b",
   "metadata": {
    "tags": []
   },
   "outputs": [],
   "source": [
    "for player in range(len(player_code)):\n",
    "    player_code[player] = player_code[player].lower()\n",
    "    print(player_code)\n",
    "    "
   ]
  },
  {
   "cell_type": "code",
   "execution_count": null,
   "id": "6187bba7",
   "metadata": {
    "tags": []
   },
   "outputs": [],
   "source": [
    "player_code"
   ]
  },
  {
   "cell_type": "code",
   "execution_count": null,
   "id": "10ce1b82-009a-4837-a244-d9923b0cb831",
   "metadata": {
    "tags": []
   },
   "outputs": [],
   "source": [
    "empty_df = pd.DataFrame()\n",
    "\n",
    "for code in player_code:\n",
    "    try:\n",
    "        time.sleep(3)\n",
    "        stat_scrape = pd.DataFrame()\n",
    "        url = 'https://www.basketball-reference.com/players/r/randlju01/gamelog/2023'\n",
    "        df_list = pd.read_html(url)\n",
    "        stat_scrape2 = df_list[7]\n",
    "        stat_scrape2['PlayerCode'] = code\n",
    "        empty_df = empty_df.append(stat_scrape2)\n",
    "        time.sleep(1)\n",
    "\n",
    "    except:\n",
    "        pass\n",
    "   "
   ]
  },
  {
   "cell_type": "code",
   "execution_count": null,
   "id": "7c2ff035-f586-4eae-a07f-fe4a00c3d856",
   "metadata": {
    "tags": []
   },
   "outputs": [],
   "source": [
    "empty_df.to_csv(\"playerstats.csv\")"
   ]
  },
  {
   "cell_type": "code",
   "execution_count": null,
   "id": "657fe412",
   "metadata": {},
   "outputs": [],
   "source": [
    "for code in player_code:\n",
    "    empty_df['Player'] = player"
   ]
  },
  {
   "cell_type": "code",
   "execution_count": null,
   "id": "a1f92373",
   "metadata": {},
   "outputs": [],
   "source": [
    "empty_df"
   ]
  },
  {
   "cell_type": "code",
   "execution_count": null,
   "id": "51dfc355",
   "metadata": {},
   "outputs": [],
   "source": [
    "player_code = ['c/curryst01']"
   ]
  },
  {
   "cell_type": "code",
   "execution_count": 13,
   "id": "68a06bf6",
   "metadata": {
    "tags": []
   },
   "outputs": [
    {
     "ename": "AttributeError",
     "evalue": "'NoneType' object has no attribute 'append'",
     "output_type": "error",
     "traceback": [
      "\u001b[1;31m---------------------------------------------------------------------------\u001b[0m",
      "\u001b[1;31mAttributeError\u001b[0m                            Traceback (most recent call last)",
      "Cell \u001b[1;32mIn[13], line 6\u001b[0m\n\u001b[0;32m      4\u001b[0m df_list \u001b[38;5;241m=\u001b[39m pd\u001b[38;5;241m.\u001b[39mread_html(url)\n\u001b[0;32m      5\u001b[0m stat_scrape2 \u001b[38;5;241m=\u001b[39m df_list[\u001b[38;5;241m7\u001b[39m]\n\u001b[1;32m----> 6\u001b[0m empty_df \u001b[38;5;241m=\u001b[39m empty_df\u001b[38;5;241m.\u001b[39mappend(stat_scrape2)\n\u001b[0;32m      7\u001b[0m time\u001b[38;5;241m.\u001b[39msleep(\u001b[38;5;241m1\u001b[39m)\n",
      "\u001b[1;31mAttributeError\u001b[0m: 'NoneType' object has no attribute 'append'"
     ]
    }
   ],
   "source": [
    "time.sleep(3)\n",
    "stat_scrape = pd.DataFrame()\n",
    "url = 'https://www.basketball-reference.com/players/a/antetgi01/gamelog/2024'\n",
    "df_list = pd.read_html(url)\n",
    "stat_scrape2 = df_list[7]\n",
    "empty_df = empty_df.append(stat_scrape2)\n",
    "time.sleep(1)"
   ]
  },
  {
   "cell_type": "code",
   "execution_count": null,
   "id": "78a54636",
   "metadata": {},
   "outputs": [],
   "source": [
    "empty_df.to_csv(\"giannis.csv\")"
   ]
  },
  {
   "cell_type": "code",
   "execution_count": null,
   "id": "a1f8fb4c",
   "metadata": {},
   "outputs": [],
   "source": []
  }
 ],
 "metadata": {
  "kernelspec": {
   "display_name": "Python 3 (ipykernel)",
   "language": "python",
   "name": "python3"
  },
  "language_info": {
   "codemirror_mode": {
    "name": "ipython",
    "version": 3
   },
   "file_extension": ".py",
   "mimetype": "text/x-python",
   "name": "python",
   "nbconvert_exporter": "python",
   "pygments_lexer": "ipython3",
   "version": "3.11.4"
  }
 },
 "nbformat": 4,
 "nbformat_minor": 5
}
